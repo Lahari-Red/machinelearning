{
 "cells": [
  {
   "cell_type": "code",
   "execution_count": null,
   "id": "7aa2603c-43c5-4c47-a72b-96a47b197d49",
   "metadata": {},
   "outputs": [],
   "source": [
    "#ComboFinder\n",
    "#Problem Statement:\n",
    "#Find all the list of products whose sum-of-price is between 290 and 310.\n",
    "#ProductList = {p1:10, p2:15, p3:20, p4:25, p5:30, p6:35, p7:50}"
   ]
  },
  {
   "cell_type": "code",
   "execution_count": 2,
   "id": "204e7143-ca46-4b8e-a1b5-3f6c176e2d0d",
   "metadata": {},
   "outputs": [],
   "source": [
    "#1 Library inclusion\n",
    "import random as r"
   ]
  },
  {
   "cell_type": "code",
   "execution_count": 4,
   "id": "764bce9d-7290-42af-a639-bc38cda03419",
   "metadata": {},
   "outputs": [],
   "source": [
    "#2 Parameter Setting\n",
    "#Read the productId-price file and convert to dictionary\n",
    "ProductList = {'p1':10, 'p2':15, 'p3':20, 'p4':25, 'p5':30, 'p6':35, 'p7':50,\n",
    "               'p8':40, 'p9':55, 'p10':60, 'p11':65, 'p12':75, 'p13':70,\n",
    "               'p14':45}\n",
    "LB          = 290\n",
    "UB          = 310\n",
    "ResultList  = set()   # Store Result List i.e. list of sets whose sum is between 90 and 210.\n",
    "Iterations  = 1000    # Number of Inerations"
   ]
  },
  {
   "cell_type": "code",
   "execution_count": 6,
   "id": "ba3fcb0d-1757-4c38-96bb-7e0ab79fd137",
   "metadata": {},
   "outputs": [
    {
     "name": "stdout",
     "output_type": "stream",
     "text": [
      "Number of Product:  5\n",
      "Product List     :  ['p9', 'p13', 'p11', 'p7', 'p3']\n",
      "Sum of Product   :  260\n"
     ]
    }
   ],
   "source": [
    "#Single Run\n",
    "# Select combo size (i.e. number of products in a combo)\n",
    "SetSize = r.randint(2, len(ProductList)-1)\n",
    "print(\"Number of Product: \", SetSize)\n",
    "\n",
    "\n",
    "# Select number of elements from Set\n",
    "ComboList = r.sample(list(ProductList.keys()),SetSize)\n",
    "print(\"Product List     : \", ComboList)\n",
    "\n",
    "\n",
    "# Sum the products in ColboList\n",
    "ComboSum = sum([ ProductList[i] for i in ComboList])\n",
    "print(\"Sum of Product   : \", ComboSum)"
   ]
  },
  {
   "cell_type": "code",
   "execution_count": 8,
   "id": "51f00f05-9297-4397-805c-d3945b0a1515",
   "metadata": {},
   "outputs": [
    {
     "name": "stdout",
     "output_type": "stream",
     "text": [
      "Done\n"
     ]
    }
   ],
   "source": [
    "#3.start program\n",
    "# Loop till number of Iterations\n",
    "ResultList  = set()\n",
    "\n",
    "for i in range(Iterations):\n",
    "\n",
    "    # Select combo size (i.e. number of products in a combo)\n",
    "    SetSize = r.randint(2, len(ProductList)-1)\n",
    "\n",
    "    # Select number of elements from Set\n",
    "    ComboList = r.sample(list(ProductList.keys()),SetSize)\n",
    "\n",
    "    # Sum the products in ColboList\n",
    "    ComboSum = sum([ ProductList[i] for i in ComboList])\n",
    "    \n",
    "    # Check the Sum Between LB and UB\n",
    "    if ComboSum>= LB and ComboSum<= UB:\n",
    "      ResultList.add(tuple(ComboList))\n",
    "\n",
    "print(\"Done\")"
   ]
  },
  {
   "cell_type": "code",
   "execution_count": 10,
   "id": "2e477309-8f1c-4242-abca-f37888247d9f",
   "metadata": {},
   "outputs": [
    {
     "name": "stdout",
     "output_type": "stream",
     "text": [
      "('p8', 'p4', 'p2', 'p11', 'p9', 'p7', 'p14')\n",
      "('p12', 'p2', 'p13', 'p7', 'p3', 'p14', 'p6')\n",
      "('p6', 'p14', 'p5', 'p7', 'p9', 'p12')\n",
      "('p6', 'p7', 'p14', 'p5', 'p2', 'p3', 'p12', 'p1', 'p4')\n",
      "('p12', 'p1', 'p4', 'p8', 'p6', 'p10', 'p11')\n",
      "('p14', 'p1', 'p6', 'p10', 'p7', 'p4', 'p13')\n",
      "('p10', 'p13', 'p6', 'p5', 'p12', 'p4')\n",
      "('p6', 'p4', 'p10', 'p5', 'p12', 'p11')\n",
      "('p1', 'p8', 'p2', 'p13', 'p4', 'p10', 'p12')\n",
      "('p6', 'p13', 'p14', 'p2', 'p8', 'p4', 'p10')\n",
      "('p6', 'p1', 'p4', 'p9', 'p5', 'p2', 'p11', 'p13')\n",
      "('p1', 'p3', 'p10', 'p5', 'p6', 'p8', 'p7', 'p11')\n",
      "('p9', 'p13', 'p14', 'p6', 'p2', 'p1', 'p12')\n",
      "('p8', 'p1', 'p4', 'p11', 'p13', 'p6', 'p14')\n",
      "('p12', 'p9', 'p8', 'p4', 'p11', 'p5', 'p1')\n",
      "('p9', 'p12', 'p10', 'p8', 'p1', 'p6', 'p3')\n",
      "('p1', 'p3', 'p9', 'p10', 'p2', 'p5', 'p13', 'p14')\n",
      "('p8', 'p2', 'p3', 'p12', 'p13', 'p14', 'p6', 'p1')\n",
      "('p2', 'p10', 'p12', 'p14', 'p9', 'p8')\n",
      "('p14', 'p2', 'p10', 'p4', 'p13', 'p7', 'p6')\n",
      "('p7', 'p8', 'p9', 'p10', 'p5', 'p12')\n",
      "('p5', 'p10', 'p4', 'p8', 'p13', 'p12', 'p1')\n",
      "('p4', 'p5', 'p9', 'p7', 'p2', 'p3', 'p10', 'p6')\n",
      "('p1', 'p11', 'p3', 'p12', 'p4', 'p8', 'p2', 'p14')\n",
      "('p13', 'p14', 'p5', 'p7', 'p9', 'p8')\n",
      "('p2', 'p7', 'p9', 'p14', 'p12', 'p11')\n",
      "('p7', 'p5', 'p4', 'p13', 'p9', 'p11')\n",
      "('p12', 'p3', 'p7', 'p6', 'p9', 'p8', 'p4')\n",
      "('p7', 'p4', 'p10', 'p3', 'p6', 'p13', 'p1', 'p8')\n",
      "('p13', 'p2', 'p3', 'p6', 'p9', 'p11', 'p8')\n",
      "('p2', 'p10', 'p4', 'p1', 'p14', 'p7', 'p9', 'p5', 'p3')\n",
      "('p13', 'p7', 'p1', 'p5', 'p3', 'p2', 'p14', 'p11')\n",
      "('p9', 'p5', 'p13', 'p1', 'p4', 'p2', 'p6', 'p7', 'p3')\n",
      "('p13', 'p7', 'p2', 'p9', 'p8', 'p14', 'p4')\n",
      "('p2', 'p4', 'p12', 'p11', 'p10', 'p6', 'p5')\n",
      "('p1', 'p11', 'p7', 'p5', 'p3', 'p10', 'p14', 'p2')\n",
      "('p6', 'p14', 'p7', 'p1', 'p11', 'p3', 'p12')\n",
      "('p7', 'p13', 'p14', 'p5', 'p3', 'p1', 'p4', 'p10')\n",
      "('p4', 'p7', 'p12', 'p2', 'p1', 'p10', 'p9')\n",
      "('p5', 'p10', 'p8', 'p2', 'p6', 'p9', 'p4', 'p7')\n",
      "('p14', 'p1', 'p2', 'p12', 'p9', 'p5', 'p13')\n",
      "('p5', 'p14', 'p1', 'p11', 'p2', 'p7', 'p8', 'p4', 'p3')\n",
      "('p9', 'p3', 'p10', 'p5', 'p11', 'p13')\n",
      "('p8', 'p13', 'p6', 'p3', 'p4', 'p7', 'p9', 'p1')\n",
      "('p2', 'p13', 'p4', 'p1', 'p10', 'p7', 'p14', 'p5')\n",
      "('p3', 'p12', 'p6', 'p14', 'p2', 'p13', 'p8', 'p1')\n",
      "('p5', 'p13', 'p7', 'p4', 'p9', 'p10', 'p1')\n",
      "('p12', 'p10', 'p2', 'p14', 'p7', 'p3', 'p5', 'p1')\n",
      "('p3', 'p11', 'p14', 'p6', 'p1', 'p9', 'p13')\n",
      "\n",
      "Total Sets:  49 \n",
      "\n"
     ]
    }
   ],
   "source": [
    "#4 Print the comboLists and total count\n",
    "# Print all the sets whose sum is between LB and UB\n",
    "for r in ResultList:\n",
    "\tprint (r)\n",
    "\n",
    "# Print total sets\n",
    "print (\"\\nTotal Sets: \", len(ResultList), \"\\n\")"
   ]
  },
  {
   "cell_type": "code",
   "execution_count": null,
   "id": "e8f2b672-61fb-4bc6-b4c4-952626f0b309",
   "metadata": {},
   "outputs": [],
   "source": []
  }
 ],
 "metadata": {
  "kernelspec": {
   "display_name": "Python [conda env:base] *",
   "language": "python",
   "name": "conda-base-py"
  },
  "language_info": {
   "codemirror_mode": {
    "name": "ipython",
    "version": 3
   },
   "file_extension": ".py",
   "mimetype": "text/x-python",
   "name": "python",
   "nbconvert_exporter": "python",
   "pygments_lexer": "ipython3",
   "version": "3.12.7"
  }
 },
 "nbformat": 4,
 "nbformat_minor": 5
}
